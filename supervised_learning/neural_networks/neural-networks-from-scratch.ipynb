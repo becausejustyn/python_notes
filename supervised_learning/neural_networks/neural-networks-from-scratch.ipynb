{
 "cells": [
  {
   "cell_type": "markdown",
   "metadata": {},
   "source": [
    "# Neural Networks from scratch"
   ]
  },
  {
   "cell_type": "code",
   "execution_count": 1,
   "metadata": {},
   "outputs": [
    {
     "name": "stdout",
     "output_type": "stream",
     "text": [
      "Requirement already satisfied: matplotlib in /usr/local/lib/python3.6/dist-packages (3.1.3)\n",
      "Requirement already satisfied: kiwisolver>=1.0.1 in /usr/local/lib/python3.6/dist-packages (from matplotlib) (1.1.0)\n",
      "Requirement already satisfied: numpy>=1.11 in /usr/local/lib/python3.6/dist-packages (from matplotlib) (1.18.1)\n",
      "Requirement already satisfied: python-dateutil>=2.1 in /usr/local/lib/python3.6/dist-packages (from matplotlib) (2.8.1)\n",
      "Requirement already satisfied: cycler>=0.10 in /usr/local/lib/python3.6/dist-packages (from matplotlib) (0.10.0)\n",
      "Requirement already satisfied: pyparsing!=2.0.4,!=2.1.2,!=2.1.6,>=2.0.1 in /usr/local/lib/python3.6/dist-packages (from matplotlib) (2.4.6)\n",
      "Requirement already satisfied: setuptools in /usr/local/lib/python3.6/dist-packages (from kiwisolver>=1.0.1->matplotlib) (45.2.0)\n",
      "Requirement already satisfied: six>=1.5 in /usr/local/lib/python3.6/dist-packages (from python-dateutil>=2.1->matplotlib) (1.14.0)\n"
     ]
    }
   ],
   "source": [
    "!pip3 install matplotlib"
   ]
  },
  {
   "cell_type": "code",
   "execution_count": 2,
   "metadata": {},
   "outputs": [],
   "source": [
    "from math import e\n",
    "from typing import List, Callable\n",
    "from random import random\n",
    "from matplotlib import pyplot as plt"
   ]
  },
  {
   "cell_type": "code",
   "execution_count": 3,
   "metadata": {},
   "outputs": [],
   "source": [
    "# Function to calculate the dot product\n",
    "# See: https://en.wikipedia.org/wiki/Dot_product\n",
    "def dot(a: List[float], b: List[float]) -> float:\n",
    "    return sum(a_i * b_i for a_i, b_i in zip(a, b))\n",
    "\n",
    "assert dot([1, 2, 3, 4], [5, 6, 7, 8]) == 70"
   ]
  },
  {
   "cell_type": "code",
   "execution_count": 4,
   "metadata": {},
   "outputs": [],
   "source": [
    "# The Step activation function\n",
    "# See: https://en.wikipedia.org/wiki/Step_function\n",
    "def step(x: float) -> int:\n",
    "    return 0.0 if x < 0.0 else 1.0\n",
    "\n",
    "assert step(-0.1) == 0.0\n",
    "assert step(0.0) == 1.0\n",
    "assert step(0.1) == 1.0"
   ]
  },
  {
   "cell_type": "code",
   "execution_count": 5,
   "metadata": {},
   "outputs": [
    {
     "data": {
      "image/png": "[encoded data removed]",
      "text/plain": [
       "<Figure size 432x288 with 1 Axes>"
      ]
     },
     "metadata": {
      "needs_background": "light"
     },
     "output_type": "display_data"
    }
   ],
   "source": [
    "plt.plot([x for x in range(-100, 100)], [step(x) for x in range(-100, 100)]);"
   ]
  },
  {
   "cell_type": "code",
   "execution_count": 6,
   "metadata": {},
   "outputs": [],
   "source": [
    "# The `Neuron` class represents a single Neuron / Perceptron\n",
    "class Neuron:\n",
    "    def __init__(self, activation: Callable) -> None:\n",
    "        self._weights: List[float] = [random() for i in range(2)]\n",
    "        self._bias: float = random()\n",
    "        self._activation: Callable = activation\n",
    "    \n",
    "    def forward(self, x: List[float]) -> float:\n",
    "        return self._activation(dot(x, self._weights) + self._bias)\n",
    "\n",
    "    @property\n",
    "    def weights(self) -> List[float]:\n",
    "        return self._weights\n",
    "\n",
    "    @property\n",
    "    def bias(self) -> float:\n",
    "        return self._bias\n",
    "\n",
    "    @weights.setter\n",
    "    def weights(self, weights: List[float]) -> None:\n",
    "        self._weights: List[float] = weights\n",
    "    \n",
    "    @bias.setter\n",
    "    def bias(self, bias: float) -> None:\n",
    "        self._bias: float = bias"
   ]
  },
  {
   "cell_type": "code",
   "execution_count": 7,
   "metadata": {},
   "outputs": [],
   "source": [
    "# Using a Perceptron to \"learn\" AND\n",
    "# See: https://en.wikipedia.org/wiki/Logical_conjunction\n",
    "x_1: List[float] = [0, 0]\n",
    "x_2: List[float] = [0, 1]\n",
    "x_3: List[float] = [1, 0]\n",
    "x_4: List[float] = [1, 1]\n",
    "\n",
    "y_1: float = 0.0\n",
    "y_2: float = 0.0\n",
    "y_3: float = 0.0\n",
    "y_4: float = 1.0\n",
    "\n",
    "# Creating a single `Neuron` (with a `step` activation function)\n",
    "# and setting the weights and bias\n",
    "perceptron_and: Neuron = Neuron(step)\n",
    "perceptron_and.weights = [1.5, 1.5]\n",
    "perceptron_and.bias = -2\n",
    "\n",
    "assert perceptron_and.forward(x_1) == y_1\n",
    "assert perceptron_and.forward(x_2) == y_2\n",
    "assert perceptron_and.forward(x_3) == y_3\n",
    "assert perceptron_and.forward(x_4) == y_4"
   ]
  },
  {
   "cell_type": "code",
   "execution_count": 8,
   "metadata": {},
   "outputs": [],
   "source": [
    "# The Sigmoid activation function\n",
    "# See: https://en.wikipedia.org/wiki/Sigmoid_function\n",
    "def sigmoid(x: float) -> float:\n",
    "    return 1 / (1 + (e ** -x))\n",
    "\n",
    "assert sigmoid(0) == 0.5"
   ]
  },
  {
   "cell_type": "code",
   "execution_count": 9,
   "metadata": {},
   "outputs": [
    {
     "data": {
      "image/png": "[encoded data removed]",
      "text/plain": [
       "<Figure size 432x288 with 1 Axes>"
      ]
     },
     "metadata": {
      "needs_background": "light"
     },
     "output_type": "display_data"
    }
   ],
   "source": [
    "plt.plot([x for x in range(-10, 10)], [sigmoid(x) for x in range(-10, 10)]);"
   ]
  },
  {
   "cell_type": "code",
   "execution_count": 10,
   "metadata": {},
   "outputs": [],
   "source": [
    "# The derivative of the Sigmoid activation function\n",
    "def d_sigmoid(x: float) -> float:\n",
    "    return sigmoid(x) * (1 - sigmoid(x))\n",
    "\n",
    "assert d_sigmoid(0) == 0.25"
   ]
  },
  {
   "cell_type": "code",
   "execution_count": 11,
   "metadata": {},
   "outputs": [
    {
     "data": {
      "image/png": "[encoded data removed]",
      "text/plain": [
       "<Figure size 432x288 with 1 Axes>"
      ]
     },
     "metadata": {
      "needs_background": "light"
     },
     "output_type": "display_data"
    }
   ],
   "source": [
    "plt.plot([x for x in range(-10, 10)], [d_sigmoid(x) for x in range(-10, 10)]);"
   ]
  },
  {
   "cell_type": "code",
   "execution_count": 12,
   "metadata": {},
   "outputs": [],
   "source": [
    "# Sum of squared errors function\n",
    "# See: https://en.wikipedia.org/wiki/Residual_sum_of_squares\n",
    "def sum_squared_error(ys: List[float], ys_pred: List[float]) -> float:\n",
    "    return sum((y - y_pred) ** 2 for y, y_pred in zip(ys, ys_pred))\n",
    "\n",
    "assert sum_squared_error([0, 1], [0, 1]) == 0\n",
    "assert sum_squared_error([0, 0], [1, 1]) == 2"
   ]
  },
  {
   "cell_type": "code",
   "execution_count": 13,
   "metadata": {},
   "outputs": [],
   "source": [
    "# Derivative of the squared error function\n",
    "# NOTE: The squared error function is expressed as `(y - y_pred) ** 2`\n",
    "def d_squared_error(y: float, y_pred: float) -> float:\n",
    "    return -2 * (y - y_pred)\n",
    "\n",
    "assert d_squared_error(1, 4) == 6\n",
    "assert d_squared_error(1, 1) == 0"
   ]
  },
  {
   "cell_type": "code",
   "execution_count": 14,
   "metadata": {},
   "outputs": [
    {
     "name": "stdout",
     "output_type": "stream",
     "text": [
      "--- Before training ---\n",
      "Prediction for [0, 0] (should be 0): 0.59\n",
      "Prediction for [0, 1] (should be 1): 0.67\n",
      "Prediction for [1, 0] (should be 1): 0.76\n",
      "Prediction for [1, 1] (should be 1): 0.81\n",
      "\n",
      "Training Perceptron for 5000 epochs with Learning Rate 0.1\n",
      "\n",
      "--- After training ---\n",
      "Prediction for [0, 0] (should be 0): 0.05\n",
      "Prediction for [0, 1] (should be 1): 0.97\n",
      "Prediction for [1, 0] (should be 1): 0.97\n",
      "Prediction for [1, 1] (should be 1): 1.00\n"
     ]
    }
   ],
   "source": [
    "# Using a Perceptron to \"learn\" OR\n",
    "# See: https://en.wikipedia.org/wiki/Logical_disjunction\n",
    "xs: List[List[float]] = [[0, 0], [0, 1], [1, 0], [1, 1]]\n",
    "ys: List[float] = [0, 1, 1, 1]\n",
    "\n",
    "# Creating a single `Neuron` (with a `sigmoid` activation function)\n",
    "perceptron_or: Neuron = Neuron(sigmoid)\n",
    "\n",
    "# Print out what the randomized weights and bias initializations cause the Perceptron to predict\n",
    "print('--- Before training ---')\n",
    "print('Prediction for [0, 0] (should be 0): {num:.{digits}f}'.format(num=perceptron_or.forward([0, 0]), digits=2))\n",
    "print('Prediction for [0, 1] (should be 1): {num:.{digits}f}'.format(num=perceptron_or.forward([0, 1]), digits=2))\n",
    "print('Prediction for [1, 0] (should be 1): {num:.{digits}f}'.format(num=perceptron_or.forward([1, 0]), digits=2))\n",
    "print('Prediction for [1, 1] (should be 1): {num:.{digits}f}'.format(num=perceptron_or.forward([1, 1]), digits=2))\n",
    "\n",
    "# Train the Perceptron\n",
    "epochs: int = 5000\n",
    "learning_rate: int = 0.1\n",
    "\n",
    "print(f'\\nTraining Perceptron for {epochs} epochs with Learning Rate {learning_rate}\\n')\n",
    "    \n",
    "for epoch in range(epochs):\n",
    "    for x, y in zip(xs, ys):\n",
    "        y_pred: float = perceptron_or.forward(x)\n",
    "\n",
    "        d_error_d_y_pred: float = d_squared_error(y, y_pred)\n",
    "\n",
    "        w1: float = perceptron_or.weights[0]\n",
    "        w2: float = perceptron_or.weights[1]\n",
    "        b: float = perceptron_or.bias\n",
    "\n",
    "        sum_p: float = dot([x[0], x[1]], [w1, w2]) + b\n",
    "        d_y_pred_d_w1: float = x[0] * d_sigmoid(sum_p)\n",
    "        d_y_pred_d_w2: float = x[1] * d_sigmoid(sum_p)\n",
    "        d_y_pred_d_b: float = d_sigmoid(sum_p)\n",
    "\n",
    "        perceptron_or.weights[0] += -learning_rate * d_error_d_y_pred * d_y_pred_d_w1\n",
    "        perceptron_or.weights[1] += -learning_rate * d_error_d_y_pred * d_y_pred_d_w2\n",
    "        perceptron_or.bias += -learning_rate * d_error_d_y_pred * d_y_pred_d_b\n",
    "\n",
    "# Print out what the Perceptron predicts after training (updating the weights and biases)\n",
    "print('--- After training ---')\n",
    "print('Prediction for [0, 0] (should be 0): {num:.{digits}f}'.format(num=perceptron_or.forward([0, 0]), digits=2))\n",
    "print('Prediction for [0, 1] (should be 1): {num:.{digits}f}'.format(num=perceptron_or.forward([0, 1]), digits=2))\n",
    "print('Prediction for [1, 0] (should be 1): {num:.{digits}f}'.format(num=perceptron_or.forward([1, 0]), digits=2))\n",
    "print('Prediction for [1, 1] (should be 1): {num:.{digits}f}'.format(num=perceptron_or.forward([1, 1]), digits=2))"
   ]
  },
  {
   "cell_type": "code",
   "execution_count": 15,
   "metadata": {},
   "outputs": [],
   "source": [
    "# Our 3 Layer (input, hidden, output) Neural Network\n",
    "class NeuralNetwork:\n",
    "    def __init__(self, activation: Callable):\n",
    "        self._activation: Callable = activation\n",
    "        # `Neuron`s of the hidden layer\n",
    "        self._n1: Neuron = Neuron(self._activation)\n",
    "        self._n2: Neuron = Neuron(self._activation)\n",
    "        # `Neuron` of the output layer\n",
    "        self._n3: Neuron = Neuron(self._activation)\n",
    "        # The most recent x values we've seen\n",
    "        self._x1: float = 0\n",
    "        self._x2: float = 0\n",
    "        # The results from the most recent forward-pass\n",
    "        self._res_n1: float = 0\n",
    "        self._res_n2: float = 0\n",
    "        self._res_n3: float = 0\n",
    "\n",
    "    # Forward-pass the data through the network\n",
    "    def forward(self, x: List[float]) -> float:\n",
    "        # Store a copy of the x values\n",
    "        self._x1: float = x[0]\n",
    "        self._x2: float = x[1]\n",
    "        # Construct the data flow by combining the NN layers\n",
    "        res_n1: float = self._n1.forward(x)\n",
    "        res_n2: float = self._n2.forward(x)\n",
    "        res_n3: float = self._n3.forward([res_n1, res_n2])\n",
    "        # Store the most recent result of every single `Neuron`\n",
    "        self._res_n1: float = res_n1\n",
    "        self._res_n2: float = res_n2\n",
    "        self._res_n3: float = res_n3\n",
    "        # Return the overall result (the prediction)\n",
    "        return res_n3\n",
    "\n",
    "    # Back-propagating weight and bias updates across the network\n",
    "    def backward(self, y: float, lr: float) -> None:\n",
    "        # The most recent x values we've used\n",
    "        x1: float = self._x1\n",
    "        x2: float = self._x2\n",
    "        \n",
    "        # The individual `Neuron` results\n",
    "        n1: float = self._res_n1\n",
    "        n2: float = self._res_n2\n",
    "        n3: float = self._res_n3\n",
    "        y_pred: float = n3\n",
    "        \n",
    "        # The individual `Neuron`s weights and biases\n",
    "        # `Neuron` 1\n",
    "        b1: float = self._n1.bias\n",
    "        w1: float = self._n1.weights[0]\n",
    "        w2: float = self._n1.weights[1]\n",
    "        # `Neuron` 2\n",
    "        b2: float = self._n2.bias\n",
    "        w3: float = self._n2.weights[0]\n",
    "        w4: float = self._n2.weights[1]\n",
    "        # `Neuron` 3 (output)\n",
    "        b3: float = self._n3.bias\n",
    "        w5: float = self._n3.weights[0]\n",
    "        w6: float = self._n3.weights[1]\n",
    "\n",
    "        # The partial derivative for the error function is used in every computation\n",
    "        d_error_d_y_pred: float = d_squared_error(y, y_pred)\n",
    "        \n",
    "        # Calculate the partial derivatives for the individual weights and biases\n",
    "        # `Neuron` 1\n",
    "        sum_n1: float = dot([x1, x2], [w1, w2]) + b1\n",
    "        d_n1_d_w1: float = x1 * d_sigmoid(sum_n1)\n",
    "        d_n1_d_w2: float = x2 * d_sigmoid(sum_n1)\n",
    "        d_n1_d_b1: float = d_sigmoid(sum_n1)\n",
    "        # `Neuron` 2\n",
    "        sum_n2: float = dot([x1, x2], [w3, w4]) + b2\n",
    "        d_n2_d_w3: float = x1 * d_sigmoid(sum_n2)\n",
    "        d_n2_d_w4: float = x2 * d_sigmoid(sum_n2)\n",
    "        d_n2_d_b2: float = d_sigmoid(sum_n2)\n",
    "        # `Neuron` 3 (output)\n",
    "        sum_n3: float = dot([n1, n2], [w5, w6]) + b3\n",
    "        d_y_pred_d_n1: float = w5 * d_sigmoid(sum_n3)\n",
    "        d_y_pred_d_n2: float = w6 * d_sigmoid(sum_n3)\n",
    "        d_y_pred_d_w5: float = n1 * d_sigmoid(sum_n3)\n",
    "        d_y_pred_d_w6: float = n2 * d_sigmoid(sum_n3)\n",
    "        d_y_pred_d_b3: float = d_sigmoid(sum_n3)\n",
    "\n",
    "        # Update the weights and biases\n",
    "        # `Neuron` 1\n",
    "        self._n1.weights[0] += -lr * d_error_d_y_pred * d_y_pred_d_n1 * d_n1_d_w1\n",
    "        self._n1.weights[1] += -lr * d_error_d_y_pred * d_y_pred_d_n1 * d_n1_d_w2\n",
    "        self._n1.bias += -lr * d_error_d_y_pred * d_y_pred_d_n1 * d_n1_d_b1\n",
    "        # `Neuron` 2\n",
    "        self._n2.weights[0] += -lr * d_error_d_y_pred * d_y_pred_d_n2 * d_n2_d_w3\n",
    "        self._n2.weights[1] += -lr * d_error_d_y_pred * d_y_pred_d_n2 * d_n2_d_w4\n",
    "        self._n2.bias += -lr * d_error_d_y_pred * d_y_pred_d_n2 * d_n2_d_b2\n",
    "        # `Neuron` 3 (output)\n",
    "        self._n3.weights[0] += -lr * d_error_d_y_pred * d_y_pred_d_w5\n",
    "        self._n3.weights[1] += -lr * d_error_d_y_pred * d_y_pred_d_w6\n",
    "        self._n3.bias += -lr * d_error_d_y_pred * d_y_pred_d_b3"
   ]
  },
  {
   "cell_type": "code",
   "execution_count": 16,
   "metadata": {},
   "outputs": [],
   "source": [
    "# Create a new Neural Network with a `sigmoid` activation function\n",
    "nn: NeuralNetwork = NeuralNetwork(sigmoid)"
   ]
  },
  {
   "cell_type": "code",
   "execution_count": 17,
   "metadata": {},
   "outputs": [
    {
     "name": "stdout",
     "output_type": "stream",
     "text": [
      "--- Before training ---\n",
      "Prediction for [0, 0] (should be 0): 0.79\n",
      "Prediction for [0, 1] (should be 1): 0.83\n",
      "Prediction for [1, 0] (should be 1): 0.83\n",
      "Prediction for [1, 1] (should be 0): 0.85\n"
     ]
    }
   ],
   "source": [
    "# Print out what the randomized weights and bias initializations cause the NN to predict\n",
    "print('--- Before training ---')\n",
    "print('Prediction for [0, 0] (should be 0): {num:.{digits}f}'.format(num=nn.forward([0, 0]), digits=2))\n",
    "print('Prediction for [0, 1] (should be 1): {num:.{digits}f}'.format(num=nn.forward([0, 1]), digits=2))\n",
    "print('Prediction for [1, 0] (should be 1): {num:.{digits}f}'.format(num=nn.forward([1, 0]), digits=2))\n",
    "print('Prediction for [1, 1] (should be 0): {num:.{digits}f}'.format(num=nn.forward([1, 1]), digits=2))"
   ]
  },
  {
   "cell_type": "code",
   "execution_count": 18,
   "metadata": {},
   "outputs": [
    {
     "name": "stdout",
     "output_type": "stream",
     "text": [
      "Epoch 0 --> loss: 1.4036893181184023\n",
      "Epoch 5000 --> loss: 0.014574431740830018\n",
      "Epoch 10000 --> loss: 0.004078498610061902\n",
      "Epoch 15000 --> loss: 0.0023138620933954145\n",
      "Epoch 20000 --> loss: 0.0016032268987062385\n",
      "Epoch 25000 --> loss: 0.001222352177475733\n"
     ]
    }
   ],
   "source": [
    "# Train the Neural Network to learn the XOR function\n",
    "# See: https://en.wikipedia.org/wiki/Exclusive_or\n",
    "\n",
    "# XOR function data\n",
    "xs: List[List[float]] = [[0, 0], [0, 1], [1, 0], [1, 1]]\n",
    "ys: List[float] = [0, 1, 1, 0]\n",
    "\n",
    "epochs: int = 30000\n",
    "learning_rate: float = 0.1\n",
    "\n",
    "# This list is used to record the loss at every epoch to plot it later on\n",
    "losses: List[float] = []\n",
    "\n",
    "# This list is used to record our current y predictions\n",
    "ys_pred: List[float] = []\n",
    "\n",
    "for epoch in range(epochs):\n",
    "    # Show the NN the whole data set once\n",
    "    for x, y in zip(xs, ys):\n",
    "        # Let it make a prediction\n",
    "        y_pred: float = nn.forward(x)\n",
    "        # Record the prediction\n",
    "        ys_pred.append(y_pred)\n",
    "        # Do a backward-pass to update the weights and biases\n",
    "        nn.backward(y, lr=learning_rate)\n",
    "\n",
    "    # Calculate and record the loss for every epoch\n",
    "    # so that we can plot it later on\n",
    "    loss: float = sum_squared_error(ys, ys_pred)\n",
    "    losses.append(loss)\n",
    "\n",
    "    # Print the loss every once in a while\n",
    "    if epoch % 5000 == 0:\n",
    "        print(f'Epoch {epoch} --> loss: {loss}')\n",
    "\n",
    "    # Clear the list of predictions after the NN has seen the whole data set\n",
    "    ys_pred.clear()"
   ]
  },
  {
   "cell_type": "code",
   "execution_count": 19,
   "metadata": {},
   "outputs": [
    {
     "data": {
      "image/png": "[encoded data removed]",
      "text/plain": [
       "<Figure size 432x288 with 1 Axes>"
      ]
     },
     "metadata": {
      "needs_background": "light"
     },
     "output_type": "display_data"
    }
   ],
   "source": [
    "plt.plot([i for i in range(epochs)], losses)\n",
    "plt.xlabel('Epochs')\n",
    "plt.ylabel('Loss');"
   ]
  },
  {
   "cell_type": "code",
   "execution_count": 20,
   "metadata": {},
   "outputs": [
    {
     "name": "stdout",
     "output_type": "stream",
     "text": [
      "--- After training ---\n",
      "Prediction for [0, 0] (should be 0): 0.02\n",
      "Prediction for [0, 1] (should be 1): 0.99\n",
      "Prediction for [1, 0] (should be 1): 0.99\n",
      "Prediction for [1, 1] (should be 0): 0.02\n"
     ]
    }
   ],
   "source": [
    "# Print out what the NN predicts after training (updating the weights and biases)\n",
    "print('--- After training ---')\n",
    "print('Prediction for [0, 0] (should be 0): {num:.{digits}f}'.format(num=nn.forward([0, 0]), digits=2))\n",
    "print('Prediction for [0, 1] (should be 1): {num:.{digits}f}'.format(num=nn.forward([0, 1]), digits=2))\n",
    "print('Prediction for [1, 0] (should be 1): {num:.{digits}f}'.format(num=nn.forward([1, 0]), digits=2))\n",
    "print('Prediction for [1, 1] (should be 0): {num:.{digits}f}'.format(num=nn.forward([1, 1]), digits=2))"
   ]
  }
 ],
 "metadata": {
  "kernelspec": {
   "display_name": "Python 3",
   "language": "python",
   "name": "python3"
  },
  "language_info": {
   "codemirror_mode": {
    "name": "ipython",
    "version": 3
   },
   "file_extension": ".py",
   "mimetype": "text/x-python",
   "name": "python",
   "nbconvert_exporter": "python",
   "pygments_lexer": "ipython3",
   "version": "3.6.9"
  }
 },
 "nbformat": 4,
 "nbformat_minor": 4
}
