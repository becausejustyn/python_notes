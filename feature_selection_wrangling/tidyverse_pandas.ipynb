{
 "cells": [
  {
   "cell_type": "code",
   "execution_count": 5,
   "metadata": {},
   "outputs": [],
   "source": [
    "%load_ext rpy2.ipython"
   ]
  },
  {
   "cell_type": "code",
   "execution_count": 6,
   "metadata": {},
   "outputs": [
    {
     "data": {
      "text/html": [
       "<div>\n",
       "<style scoped>\n",
       "    .dataframe tbody tr th:only-of-type {\n",
       "        vertical-align: middle;\n",
       "    }\n",
       "\n",
       "    .dataframe tbody tr th {\n",
       "        vertical-align: top;\n",
       "    }\n",
       "\n",
       "    .dataframe thead th {\n",
       "        text-align: right;\n",
       "    }\n",
       "</style>\n",
       "<table border=\"1\" class=\"dataframe\">\n",
       "  <thead>\n",
       "    <tr style=\"text-align: right;\">\n",
       "      <th></th>\n",
       "      <th>carat</th>\n",
       "      <th>cut</th>\n",
       "      <th>color</th>\n",
       "      <th>clarity</th>\n",
       "      <th>depth</th>\n",
       "      <th>table</th>\n",
       "      <th>price</th>\n",
       "      <th>x</th>\n",
       "      <th>y</th>\n",
       "      <th>z</th>\n",
       "    </tr>\n",
       "  </thead>\n",
       "  <tbody>\n",
       "    <tr>\n",
       "      <th>0</th>\n",
       "      <td>0.23</td>\n",
       "      <td>Ideal</td>\n",
       "      <td>E</td>\n",
       "      <td>SI2</td>\n",
       "      <td>61.5</td>\n",
       "      <td>55.0</td>\n",
       "      <td>326</td>\n",
       "      <td>3.95</td>\n",
       "      <td>3.98</td>\n",
       "      <td>2.43</td>\n",
       "    </tr>\n",
       "    <tr>\n",
       "      <th>1</th>\n",
       "      <td>0.21</td>\n",
       "      <td>Premium</td>\n",
       "      <td>E</td>\n",
       "      <td>SI1</td>\n",
       "      <td>59.8</td>\n",
       "      <td>61.0</td>\n",
       "      <td>326</td>\n",
       "      <td>3.89</td>\n",
       "      <td>3.84</td>\n",
       "      <td>2.31</td>\n",
       "    </tr>\n",
       "    <tr>\n",
       "      <th>2</th>\n",
       "      <td>0.23</td>\n",
       "      <td>Good</td>\n",
       "      <td>E</td>\n",
       "      <td>VS1</td>\n",
       "      <td>56.9</td>\n",
       "      <td>65.0</td>\n",
       "      <td>327</td>\n",
       "      <td>4.05</td>\n",
       "      <td>4.07</td>\n",
       "      <td>2.31</td>\n",
       "    </tr>\n",
       "    <tr>\n",
       "      <th>3</th>\n",
       "      <td>0.29</td>\n",
       "      <td>Premium</td>\n",
       "      <td>I</td>\n",
       "      <td>VS2</td>\n",
       "      <td>62.4</td>\n",
       "      <td>58.0</td>\n",
       "      <td>334</td>\n",
       "      <td>4.20</td>\n",
       "      <td>4.23</td>\n",
       "      <td>2.63</td>\n",
       "    </tr>\n",
       "    <tr>\n",
       "      <th>4</th>\n",
       "      <td>0.31</td>\n",
       "      <td>Good</td>\n",
       "      <td>J</td>\n",
       "      <td>SI2</td>\n",
       "      <td>63.3</td>\n",
       "      <td>58.0</td>\n",
       "      <td>335</td>\n",
       "      <td>4.34</td>\n",
       "      <td>4.35</td>\n",
       "      <td>2.75</td>\n",
       "    </tr>\n",
       "  </tbody>\n",
       "</table>\n",
       "</div>"
      ],
      "text/plain": [
       "   carat      cut color clarity  depth  table  price     x     y     z\n",
       "0   0.23    Ideal     E     SI2   61.5   55.0    326  3.95  3.98  2.43\n",
       "1   0.21  Premium     E     SI1   59.8   61.0    326  3.89  3.84  2.31\n",
       "2   0.23     Good     E     VS1   56.9   65.0    327  4.05  4.07  2.31\n",
       "3   0.29  Premium     I     VS2   62.4   58.0    334  4.20  4.23  2.63\n",
       "4   0.31     Good     J     SI2   63.3   58.0    335  4.34  4.35  2.75"
      ]
     },
     "execution_count": 6,
     "metadata": {},
     "output_type": "execute_result"
    }
   ],
   "source": [
    "%matplotlib inline\n",
    "import matplotlib.pyplot as plt\n",
    "import seaborn as sns\n",
    "import numpy as np\n",
    "import pandas as pd\n",
    "sns.set_style('white')\n",
    "\n",
    "df = sns.load_dataset('diamonds')\n",
    "df.head()"
   ]
  },
  {
   "cell_type": "markdown",
   "metadata": {},
   "source": [
    "The basic mapping of `dplyr` to `pandas` is:\n",
    "\n",
    "| `dplyr`     | `pandas`         |\n",
    "|:-----------:|:----------------:|\n",
    "|`mutate`     | `assign`         |\n",
    "|`select`     | `filter`         |\n",
    "|`rename`     | `rename`         |\n",
    "|`filter`     | `query`          |\n",
    "|`arrange`    | `sort_values`    |\n",
    "|`group_by`   | `groupby`        |\n",
    "|`summarize`  | `agg`            |"
   ]
  },
  {
   "cell_type": "code",
   "execution_count": null,
   "metadata": {},
   "outputs": [],
   "source": [
    "%%R -i df -w 5 -h 5 --units in -r 200\n",
    "# import df from global environment\n",
    "# make default figure size 5 by 5 inches with 200 dpi resolution\n",
    "\n"
   ]
  },
  {
   "cell_type": "code",
   "execution_count": 7,
   "metadata": {},
   "outputs": [],
   "source": [
    "%%R -i df -w 5 -h 5 --units in -r 200\n",
    "# import df from global environment\n",
    "# make default figure size 5 by 5 inches with 200 dpi resolution\n",
    "# \n",
    "# # turn this ...\n",
    "\n",
    "library(tidyverse)\n",
    "\n",
    "filter(select(df, carat, color), color == 'E')\n",
    "\n",
    "# into this ...\n",
    "df %>%\n",
    "  select(carat, color) %>%\n",
    "  filter(color == 'E')"
   ]
  },
  {
   "cell_type": "code",
   "execution_count": null,
   "metadata": {},
   "outputs": [],
   "source": [
    "(df\n",
    " .filter(['carat', 'color'])\n",
    " .query('color == \"E\"')\n",
    " .head(3))"
   ]
  },
  {
   "cell_type": "code",
   "execution_count": null,
   "metadata": {},
   "outputs": [],
   "source": [
    "# dplyr\n",
    "df %>%\n",
    "  select(starts_with('c')) %>%\n",
    "  filter(cut %in% c('Ideal', 'Premium')) %>%\n",
    "  group_by(cut, color, clarity) %>%\n",
    "  summarize(avgcarat = mean(carat, na.rm=TRUE),\n",
    "            n = n()) %>%\n",
    "  arrange(desc(avgcarat)) %>%\n",
    "  head()"
   ]
  },
  {
   "cell_type": "code",
   "execution_count": null,
   "metadata": {},
   "outputs": [],
   "source": [
    "# python\n",
    "(df\n",
    " .filter(regex='^c')\n",
    " .query('cut in [\"Ideal\", \"Premium\"]')\n",
    " .groupby(['cut', 'color', 'clarity'])\n",
    " .agg(['mean', 'size'])\n",
    " .sort_values(by=('carat', 'mean'), ascending=False)\n",
    " .head())"
   ]
  },
  {
   "cell_type": "code",
   "execution_count": null,
   "metadata": {},
   "outputs": [],
   "source": [
    "# tidyr\n",
    "df %>%\n",
    "  select(x, y, z) %>%\n",
    "  gather(key=dim, value=mm) %>%\n",
    "  head()"
   ]
  },
  {
   "cell_type": "code",
   "execution_count": null,
   "metadata": {},
   "outputs": [],
   "source": [
    "df %>%\n",
    "  mutate(price.cat = cut(price, breaks=3, labels=c('low', 'med', 'high'))) %>%\n",
    "  select(price.cat, width=x, depth=z) %>%\n",
    "  gather(key=dim, value=mm, -price.cat) %>%\n",
    "  filter(mm < 10) %>%\n",
    "  ggplot(aes(x=mm, fill=dim)) +\n",
    "  geom_density(alpha=0.5) +\n",
    "  facet_wrap(~price.cat) +\n",
    "  ylab('')"
   ]
  },
  {
   "cell_type": "markdown",
   "metadata": {},
   "source": [
    "For `pandas` the equivalent is \n",
    "\n",
    "| `tidyr`     | `pandas`         |\n",
    "|-------------|------------------|\n",
    "|`gather`     | `melt`           |\n",
    "|`spread`     | `pivot`          |"
   ]
  },
  {
   "cell_type": "code",
   "execution_count": null,
   "metadata": {},
   "outputs": [],
   "source": [
    "(df\n",
    " .assign(pricecat = pd.cut(df['price'], bins=3, labels=['low', 'med', 'high']))\n",
    " .filter(['x', 'z', 'pricecat'])\n",
    " .rename(columns={'x': 'width', 'z': 'depth'})\n",
    " .melt(id_vars=['pricecat'], value_vars=['width', 'depth'],\n",
    "       var_name='dim', value_name='mm')\n",
    " .head())"
   ]
  },
  {
   "cell_type": "code",
   "execution_count": null,
   "metadata": {},
   "outputs": [],
   "source": [
    "df2 = (df\n",
    " .assign(pricecat = pd.cut(df['price'], bins=3, labels=['low', 'med', 'high']))\n",
    " .filter(['x', 'z', 'pricecat'])\n",
    " .rename(columns={'x': 'width', 'z': 'depth'})\n",
    " .melt(id_vars=['pricecat'], value_vars=['width', 'depth'],\n",
    "       var_name='dim', value_name='mm')\n",
    " .query('2 < mm < 10'))\n",
    "\n",
    "g = sns.FacetGrid(data=df2, col='pricecat', hue='dim')\n",
    "g.map(sns.kdeplot, 'mm', shade=True, alpha=0.5).add_legend()"
   ]
  },
  {
   "cell_type": "markdown",
   "metadata": {},
   "source": [
    "<img align=\"center\" width=\"100%\" src=\"{{ site.github.url }}/images/diamonds_width_depth.png\" alt=\" \">"
   ]
  },
  {
   "cell_type": "code",
   "execution_count": null,
   "metadata": {},
   "outputs": [],
   "source": [
    "(df\n",
    " .assign(pricecat = pd.cut(df['price'], bins=3, labels=['low', 'med', 'high']))\n",
    " .filter(['x', 'z', 'pricecat'])\n",
    " .rename(columns={'x': 'width', 'z': 'depth'})\n",
    " .melt(id_vars=['pricecat'], value_vars=['width', 'depth'],\n",
    "       var_name='dim', value_name='mm')\n",
    " .query('2 < mm < 10')\n",
    " .pipe((sns.FacetGrid, 'data'),\n",
    "       col='pricecat', hue='dim', height=6)\n",
    " .map(sns.kdeplot, 'mm', shade=True, alpha=0.5)\n",
    " .add_legend(fontsize=14))"
   ]
  },
  {
   "cell_type": "code",
   "execution_count": null,
   "metadata": {},
   "outputs": [],
   "source": [
    "(df\n",
    " .query('cut in [\"Ideal\", \"Good\"] & \\\n",
    "         clarity in [\"IF\", \"SI2\"] & \\\n",
    "         carat < 3')\n",
    " .pipe((sns.FacetGrid, 'data'),\n",
    "       row='cut', col='clarity', hue='color',\n",
    "       hue_order=list('DEFGHIJ'),\n",
    "       height=6,\n",
    "       legend_out=True)\n",
    " .map(sns.scatterplot, 'carat', 'price', alpha=0.8)\n",
    " .add_legend())"
   ]
  },
  {
   "cell_type": "code",
   "execution_count": null,
   "metadata": {},
   "outputs": [],
   "source": [
    "fig, ax = plt.subplots(1,1, figsize=(8,8))\n",
    "pal = dict(zip(df['color'].unique(), sns.color_palette('Set1', desat=.9)))\n",
    "pal['Other'] = (1,1,1)\n",
    "\n",
    "(df\n",
    " .assign(nice = np.where((df['cut']=='Ideal') & (df['clarity']=='IF'), df['color'], 'Other'))\n",
    " .sort_values(by='nice', ascending=False)\n",
    " .pipe((sns.scatterplot, 'data'),\n",
    "       x='carat', y='price',\n",
    "       hue='nice', hue_order=np.append('Other', list('DEFGHIJ')),\n",
    "       palette=pal,\n",
    "       alpha=0.8,\n",
    "       edgecolor=(0.92,0.92,0.92),\n",
    "       ax=ax))"
   ]
  },
  {
   "cell_type": "code",
   "execution_count": null,
   "metadata": {},
   "outputs": [],
   "source": [
    "df2 = (df\n",
    " .assign(nice = np.where((df['cut']=='Ideal') & (df['clarity']=='IF'), df['color'], 'Other')))\n",
    "\n",
    "fig, ax = plt.subplots(1,1, figsize=(8,8))\n",
    "\n",
    "ax.scatter(data=df2.query('nice == \"Other\"'), x='carat', y='price',\n",
    "           c=[[0.92,0.92,0.92]], s=20, alpha=0.2)\n",
    "\n",
    "sns.scatterplot(data=df2.query('nice != \"Other\"'), x='carat', y='price', \n",
    "                hue='color', hue_order=list('DEFGHIJ'),\n",
    "                palette='Set1', s=30, alpha=0.9, ax=ax)"
   ]
  },
  {
   "cell_type": "code",
   "execution_count": null,
   "metadata": {},
   "outputs": [],
   "source": []
  },
  {
   "cell_type": "code",
   "execution_count": null,
   "metadata": {},
   "outputs": [],
   "source": []
  },
  {
   "cell_type": "code",
   "execution_count": null,
   "metadata": {},
   "outputs": [],
   "source": []
  },
  {
   "cell_type": "code",
   "execution_count": null,
   "metadata": {},
   "outputs": [],
   "source": []
  },
  {
   "cell_type": "code",
   "execution_count": null,
   "metadata": {},
   "outputs": [],
   "source": []
  }
 ],
 "metadata": {
  "interpreter": {
   "hash": "2de24e3bcd94cd82c940fec11a7cd97021d9a47f53766b1e93cfa7fbca44aba8"
  },
  "kernelspec": {
   "display_name": "Python 3.9.6 64-bit ('pythonProject': conda)",
   "language": "python",
   "name": "python3"
  },
  "language_info": {
   "codemirror_mode": {
    "name": "ipython",
    "version": 3
   },
   "file_extension": ".py",
   "mimetype": "text/x-python",
   "name": "python",
   "nbconvert_exporter": "python",
   "pygments_lexer": "ipython3",
   "version": "3.9.6"
  },
  "orig_nbformat": 4
 },
 "nbformat": 4,
 "nbformat_minor": 2
}
