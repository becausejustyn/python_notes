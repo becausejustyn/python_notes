{
 "cells": [
  {
   "cell_type": "code",
   "execution_count": null,
   "metadata": {},
   "outputs": [],
   "source": [
    "from random import randint\n",
    "from typing import List\n",
    "from plotly import graph_objects as go"
   ]
  },
  {
   "cell_type": "code",
   "execution_count": null,
   "metadata": {},
   "outputs": [],
   "source": [
    "def paraboloid(x: float, y: float) -> float:\n",
    "    return(x ** 2 + y ** 2)"
   ]
  },
  {
   "cell_type": "code",
   "execution_count": null,
   "metadata": {},
   "outputs": [],
   "source": [
    "# Test data generation (only really necessary for the plotting below)\n",
    "xs_start = ys_start = -10\n",
    "xs_stop = ys_stop = 11\n",
    "xs_step = ys_step = 1\n",
    "\n",
    "xs: List[float] = [i for i in range(xs_start, xs_stop, xs_step)]\n",
    "ys: List[float] = [i for i in range(ys_start, ys_stop, ys_step)]\n",
    "zs: List[List[float]] = []\n",
    "\n",
    "for x in xs:\n",
    "    temp_res: List[float] = []\n",
    "    for y in ys:\n",
    "        result: float = paraboloid(x, y)\n",
    "        temp_res.append(result)\n",
    "    zs.append(temp_res)\n",
    "\n",
    "print(f'xs: {xs}\\n')\n",
    "print(f'ys: {ys}\\n')\n",
    "print(f'zs: {zs[:5]} ...\\n')"
   ]
  },
  {
   "cell_type": "code",
   "execution_count": null,
   "metadata": {},
   "outputs": [],
   "source": [
    "# Plotting the generated test data\n",
    "fig = go.Figure(go.Surface(x=xs, y=ys, z=zs, colorscale='Viridis'))\n",
    "fig.show()"
   ]
  },
  {
   "cell_type": "code",
   "execution_count": null,
   "metadata": {},
   "outputs": [],
   "source": [
    "# The Gradient is a vector pointing in the direction of greatest increase\n",
    "# This function computes gradients for our Paraboloid function (defined above)\n",
    "# See: https://www.wolframalpha.com/input/?i=gradient+of+x%5E2+%2B+y%5E2\n",
    "def compute_gradient(vec: List[float]) -> List[float]:\n",
    "    assert len(vec) == 2\n",
    "    x: float = vec[0]\n",
    "    y: float = vec[1]\n",
    "    \"\"\"The derivative of z with respect to x is 2 * x\"\"\"\n",
    "    \"\"\"The derivative of z with respect to y is 2 * y\"\"\"\n",
    "    return([2 * x, 2 * y])"
   ]
  },
  {
   "cell_type": "code",
   "execution_count": null,
   "metadata": {},
   "outputs": [],
   "source": [
    "# This function computes the next position based on the current position, its computed gradient and the learning rate\n",
    "def compute_step(curr_pos: List[float], learning_rate: float) -> List[float]:\n",
    "    grad: List[float] = compute_gradient(curr_pos)\n",
    "    grad[0] *= -learning_rate\n",
    "    grad[1] *= -learning_rate\n",
    "    next_pos: List[float] = [0, 0]\n",
    "    next_pos[0] = curr_pos[0] + grad[0]\n",
    "    next_pos[1] = curr_pos[1] + grad[1]\n",
    "    return(next_pos)"
   ]
  },
  {
   "cell_type": "code",
   "execution_count": null,
   "metadata": {},
   "outputs": [],
   "source": [
    "# Pick a random starting position on the surface of our Paraboloid\n",
    "start_pos: List[float]\n",
    "\n",
    "# Ensure that we don't start at a minimum (0, 0 in our case)\n",
    "while True:\n",
    "    start_x: float = randint(xs_start, xs_stop)\n",
    "    start_y: float = randint(ys_start, ys_stop)\n",
    "    if start_x != 0 and start_y != 0:\n",
    "        start_pos = [start_x, start_y]\n",
    "        break\n",
    "\n",
    "start_pos"
   ]
  },
  {
   "cell_type": "code",
   "execution_count": null,
   "metadata": {},
   "outputs": [],
   "source": [
    "epochs: int = 5000\n",
    "learning_rate: float = 0.001\n",
    "    \n",
    "best_pos: List[float] = start_pos\n",
    "\n",
    "for i in range(0, epochs):\n",
    "    next_pos: List[float] = compute_step(best_pos, learning_rate)\n",
    "    # Print some debug information every once in a while \n",
    "    if i % 500 == 0:\n",
    "        print(f'Epoch {i}: {next_pos}')\n",
    "    best_pos = next_pos    \n",
    "\n",
    "print(f'Best guess for a minimum: {best_pos}')"
   ]
  },
  {
   "cell_type": "code",
   "execution_count": null,
   "metadata": {},
   "outputs": [],
   "source": []
  }
 ],
 "metadata": {
  "language_info": {
   "name": "python"
  },
  "orig_nbformat": 4
 },
 "nbformat": 4,
 "nbformat_minor": 2
}
