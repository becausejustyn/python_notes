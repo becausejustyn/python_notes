{
 "cells": [
  {
   "cell_type": "code",
   "execution_count": null,
   "metadata": {},
   "outputs": [],
   "source": []
  },
  {
   "cell_type": "code",
   "execution_count": null,
   "metadata": {},
   "outputs": [],
   "source": []
  },
  {
   "cell_type": "code",
   "execution_count": null,
   "metadata": {},
   "outputs": [],
   "source": [
    "#pandas series to df\n",
    "\n",
    "my_series = pd.Series([10, 20, 30, 40, 50])\n",
    "my_series.to_frame()\n",
    "\n",
    "#if you want to give a column name\n",
    "#my_series.to_frame(name = \"xxx\")"
   ]
  },
  {
   "cell_type": "code",
   "execution_count": null,
   "metadata": {},
   "outputs": [],
   "source": []
  },
  {
   "cell_type": "code",
   "execution_count": null,
   "metadata": {},
   "outputs": [],
   "source": [
    "# Count of Unique Values in Each Column"
   ]
  },
  {
   "cell_type": "code",
   "execution_count": null,
   "metadata": {},
   "outputs": [],
   "source": [
    "df=pd.read_csv('/Users/justynrodrigues/Documents/python/data/train.csv')\n",
    "pd.DataFrame({\"values\":{col:df[col].unique() for col in df},'type':{col:df[col].dtype for col in df}})"
   ]
  },
  {
   "cell_type": "code",
   "execution_count": null,
   "metadata": {},
   "outputs": [],
   "source": [
    "# Counts"
   ]
  },
  {
   "cell_type": "code",
   "execution_count": null,
   "metadata": {},
   "outputs": [],
   "source": [
    "#Cumulative\n",
    "\n",
    "df = pd.DataFrame({'mylist':[\"e\", \"a\",\"a\",\"b\",\"a\",\"b\",\"c\", \"d\", \"e\"]})\n",
    "df['CumDistinct'] = (~df.mylist.duplicated()).cumsum()\n",
    "\n",
    "# or by using apply\n",
    "#df['CumDistinct'] = df.mylist.apply(lambda x: (~pd.Series(x).duplicated()).cumsum())"
   ]
  },
  {
   "cell_type": "code",
   "execution_count": null,
   "metadata": {},
   "outputs": [],
   "source": [
    "#Consecutive Events\n",
    "\n",
    "df = pd.DataFrame({'Score':['win', 'loss', 'loss', 'loss', 'win', 'win', 'win', 'win', 'win', 'loss', 'win', 'loss', 'loss']})\n",
    "df['Streak'] = df['Score'].groupby((df['Score'] != df['Score'].shift()).cumsum()).cumcount() + 1"
   ]
  },
  {
   "cell_type": "code",
   "execution_count": null,
   "metadata": {},
   "outputs": [],
   "source": [
    "#Consecutive Events within Group\n",
    "\n",
    "df = pd.DataFrame({'Group':['A','A', 'A','A','A','A','B','B','B','B','B','B','B'],\n",
    "                   'Score':['win', 'loss', 'loss', 'loss', 'win', 'win', 'win', 'win', 'win', 'loss', 'win', 'loss', 'loss']})\n",
    "\n",
    "df['Streak'] = df['Score'].groupby((df['Score'] != df.groupby(['Group'])['Score'].shift()).cumsum()).cumcount() + 1"
   ]
  },
  {
   "cell_type": "code",
   "execution_count": null,
   "metadata": {},
   "outputs": [],
   "source": [
    "#Bins\n",
    "\n",
    "s = np.random.poisson(20, 10000)\n",
    "df = pd.DataFrame({'MyContinuous':s})\n",
    "\n",
    "bins = [-np.inf, 15, 25, np.inf]\n",
    "df['MySpecificBins'] = pd.cut(df['MyContinuous'], bins)"
   ]
  },
  {
   "cell_type": "code",
   "execution_count": null,
   "metadata": {},
   "outputs": [],
   "source": [
    "#counts of the bins\n",
    "df['MySpecificBins'].value_counts()"
   ]
  },
  {
   "cell_type": "code",
   "execution_count": null,
   "metadata": {},
   "outputs": [],
   "source": [
    "#bins based on Quantiles\n",
    "df['MyQuantileBins'] =  pd.qcut(df['MyContinuous'], 4)\n",
    " \n",
    "df[['MyContinuous', 'MyQuantileBins']].head() "
   ]
  },
  {
   "cell_type": "code",
   "execution_count": null,
   "metadata": {},
   "outputs": [],
   "source": [
    "df['MyQuantileBins'].value_counts()"
   ]
  },
  {
   "cell_type": "markdown",
   "metadata": {},
   "source": [
    "## Regex"
   ]
  },
  {
   "cell_type": "code",
   "execution_count": null,
   "metadata": {},
   "outputs": [],
   "source": [
    "df = pd.DataFrame(\n",
    "    columns = ['dummy'+str(i) for i in range(0, 10)]+\n",
    "             ['Billy'+str(i) for i in range(0, 10)]+\n",
    "             ['att'+str(i) for i in range(0, 10)], data = None)\n",
    " \n",
    "for i in df.columns:\n",
    "    df[i]=[0,0,0]\n",
    " \n",
    "df.columns"
   ]
  },
  {
   "cell_type": "code",
   "execution_count": null,
   "metadata": {},
   "outputs": [],
   "source": [
    "#The like parameter\n",
    "df.filter(like = 'Billy')\n",
    "\n",
    "#filter the columns starting with att and followed by 1, 2 or 3\n",
    "df.filter(regex = 'att[123]')\n",
    "\n",
    "#select all columns except one (Billy1)\n",
    "df.filter(regex = \"^(?!Billy1$)\")\n",
    "\n",
    "#Select all except the columns that contains Billy\n",
    "df.filter(regex = \"^(?!Billy)\")\n",
    "\n",
    "(df=='Billy1').any()"
   ]
  },
  {
   "cell_type": "code",
   "execution_count": null,
   "metadata": {},
   "outputs": [],
   "source": []
  },
  {
   "cell_type": "code",
   "execution_count": null,
   "metadata": {},
   "outputs": [],
   "source": [
    "#Progress Bar\n",
    "\n",
    "from tqdm.notebook import tqdm\n",
    "tqdm.pandas()\n",
    "\n",
    "df = pd.DataFrame({\"Value\":np.random.normal(size = 1500000)})\n",
    "\n",
    "df['Value'].progress_apply(lambda x: x**2)"
   ]
  },
  {
   "cell_type": "code",
   "execution_count": null,
   "metadata": {},
   "outputs": [],
   "source": []
  },
  {
   "cell_type": "code",
   "execution_count": null,
   "metadata": {},
   "outputs": [],
   "source": []
  },
  {
   "cell_type": "code",
   "execution_count": null,
   "metadata": {},
   "outputs": [],
   "source": []
  },
  {
   "cell_type": "code",
   "execution_count": null,
   "metadata": {},
   "outputs": [],
   "source": []
  },
  {
   "cell_type": "code",
   "execution_count": null,
   "metadata": {},
   "outputs": [],
   "source": []
  }
 ],
 "metadata": {
  "language_info": {
   "name": "python"
  },
  "orig_nbformat": 4
 },
 "nbformat": 4,
 "nbformat_minor": 2
}
