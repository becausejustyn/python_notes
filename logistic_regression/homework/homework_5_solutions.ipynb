{
 "cells": [
  {
   "cell_type": "raw",
   "metadata": {},
   "source": [
    "author: Chase Dowling (TA)\n",
    "contact: cdowling@uw.edu\n",
    "course: EE PMP 559, Spring '19"
   ]
  },
  {
   "cell_type": "code",
   "execution_count": 2,
   "metadata": {
    "collapsed": true
   },
   "outputs": [],
   "source": [
    "import numpy as np\n",
    "import matplotlib.pyplot as plt\n",
    "import sklearn.metrics\n",
    "from sklearn.svm import SVC\n",
    "from sklearn.linear_model import LogisticRegression"
   ]
  },
  {
   "cell_type": "code",
   "execution_count": 3,
   "metadata": {
    "collapsed": true
   },
   "outputs": [],
   "source": [
    "#data for assignment\n",
    "training_data = np.loadtxt(\"homework_5_train.txt\")\n",
    "X_train = training_data[:,0:2] #selects columns 1 and 2, which are the x and y coords of the data\n",
    "Y_train = training_data[:,2] #selections column 3, which is the 0 or 1 label of the data\n",
    "\n",
    "test_data = np.loadtxt(\"homework_5_test.txt\")\n",
    "X_test = test_data[:,0:2]\n",
    "Y_test = test_data[:,2]"
   ]
  },
  {
   "cell_type": "markdown",
   "metadata": {},
   "source": [
    "### Problem 1"
   ]
  },
  {
   "cell_type": "code",
   "execution_count": 6,
   "metadata": {},
   "outputs": [
    {
     "name": "stdout",
     "output_type": "stream",
     "text": [
      "Training precision:  1.0\n",
      "Training recall:  1.0\n"
     ]
    }
   ],
   "source": [
    "logreg_model_obj = LogisticRegression()\n",
    "logreg_model_obj.fit(X_train, Y_train)\n",
    "\n",
    "Y_hat = logreg_model_obj.predict(X_train)\n",
    "\n",
    "p = sklearn.metrics.precision_score(Y_train, Y_hat)  #order of inputs for these functions is true, prediction\n",
    "r = sklearn.metrics.recall_score(Y_train, Y_hat)\n",
    "\n",
    "print(\"Training precision: \", p)\n",
    "print(\"Training recall: \", r)"
   ]
  },
  {
   "cell_type": "markdown",
   "metadata": {},
   "source": [
    "### Problem 2"
   ]
  },
  {
   "cell_type": "code",
   "execution_count": 7,
   "metadata": {},
   "outputs": [
    {
     "name": "stdout",
     "output_type": "stream",
     "text": [
      "Test precision:  0.8703703703703703\n",
      "Test recall:  0.94\n"
     ]
    }
   ],
   "source": [
    "Y_hat_test = logreg_model_obj.predict(X_test)  #notice I don't call fit again\n",
    "\n",
    "p = sklearn.metrics.precision_score(Y_test, Y_hat_test)   #again, make sure you note the order of the inputs\n",
    "r = sklearn.metrics.recall_score(Y_test, Y_hat_test)\n",
    "\n",
    "print(\"Test precision: \", p)\n",
    "print(\"Test recall: \", r)"
   ]
  },
  {
   "cell_type": "markdown",
   "metadata": {},
   "source": [
    "### Problem 3"
   ]
  },
  {
   "cell_type": "code",
   "execution_count": 10,
   "metadata": {},
   "outputs": [
    {
     "name": "stdout",
     "output_type": "stream",
     "text": [
      "Training data mean:  [ 1.06746459 -0.16255519]\n",
      "Test data mean:  [ 1.31123737 -0.53876015]\n",
      "\n",
      "\n",
      "Training data variance:  [4.50500375 3.99375224]\n",
      "Test data variance:  [6.81330413 6.50673423]\n"
     ]
    }
   ],
   "source": [
    "train_mean = np.mean(X_train, axis=0)\n",
    "train_var = np.var(X_train, axis=0)\n",
    "\n",
    "test_mean = np.mean(X_test, axis=0)\n",
    "test_var = np.var(X_test, axis=0)\n",
    "\n",
    "print(\"Training data mean: \", train_mean)\n",
    "print(\"Test data mean: \", test_mean)\n",
    "print(\"\\n\")\n",
    "print(\"Training data variance: \", train_var)\n",
    "print(\"Test data variance: \", test_var)"
   ]
  },
  {
   "cell_type": "raw",
   "metadata": {},
   "source": [
    "Notice the mean isn't identical, but more importantly, the variance is much larger. Take a look at the plot below the bonus problem and notice that the linear decision boundary doesn't 1) quite match the test data and 2) can't completely seperate the classes because of some overlap in the test data. Even with the overlap however, for a simple model achieving a precision of 87\\% and a recall of 94\\% would still be very good in practice."
   ]
  },
  {
   "cell_type": "markdown",
   "metadata": {},
   "source": [
    "### Bonus"
   ]
  },
  {
   "cell_type": "raw",
   "metadata": {},
   "source": [
    "Partial credit was given for those of you who plotted the decision boundary for an SVM due to unclear wording,but the question was asking for the decision boundary of the logistic regression problem learned above"
   ]
  },
  {
   "cell_type": "code",
   "execution_count": 18,
   "metadata": {
    "collapsed": true
   },
   "outputs": [],
   "source": [
    "#for plotting Prob 3 and bonus\n",
    "#I'm breaking up the data like this so that the coordinates of class 1 in the list X_1\n",
    "#and the coordinates of class 2 in the list X_2 are clear\n",
    "X_1 = []\n",
    "X_2 = []\n",
    "for row in range(X_train.shape[0]):\n",
    "    if Y_train[row] == 0:\n",
    "        X_1.append(X_train[row,:])\n",
    "    else:\n",
    "        X_2.append(X_train[row,:])\n",
    "X_1 = np.asarray(X_1)\n",
    "X_2 = np.asarray(X_2)\n",
    "\n",
    "#doing the same for the test data\n",
    "X_1_test = []\n",
    "X_2_test = []\n",
    "for row in range(X_train.shape[0]):\n",
    "    if Y_train[row] == 0:\n",
    "        X_1_test.append(X_test[row,:])\n",
    "    else:\n",
    "        X_2_test.append(X_test[row,:])\n",
    "X_1_test = np.asarray(X_1_test)\n",
    "X_2_test = np.asarray(X_2_test)\n"
   ]
  },
  {
   "cell_type": "code",
   "execution_count": 21,
   "metadata": {
    "collapsed": true
   },
   "outputs": [],
   "source": [
    "#lay out the grid values for the decision boundary to evaluate\n",
    "xx = np.linspace(-8, 8, 30)\n",
    "yy = np.linspace(-8, 8, 30)\n",
    "YY, XX = np.meshgrid(yy, xx)\n",
    "xy = np.vstack([XX.ravel(), YY.ravel()]).T  #this is like meshgrid from matlab\n",
    "\n",
    "#evaluate the decision boundary of the model object\n",
    "Z = logreg_model_obj.decision_function(xy).reshape(XX.shape)"
   ]
  },
  {
   "cell_type": "code",
   "execution_count": 22,
   "metadata": {},
   "outputs": [
    {
     "data": {
      "image/png": "[encoded data removed]",
      "text/plain": [
       "<matplotlib.figure.Figure at 0x7f14e0065c88>"
      ]
     },
     "metadata": {},
     "output_type": "display_data"
    }
   ],
   "source": [
    "plt.title(\"Training data class seperation\")\n",
    "plt.scatter(X_1[:,0], X_1[:,1], label=\"Class 1\")\n",
    "plt.scatter(X_2[:,0], X_2[:,1], label=\"Class 2\")\n",
    "c = plt.contour(XX, YY, Z, colors='k', levels=[0], alpha=0.5,\n",
    "           linestyles=['--'])\n",
    "plt.xlim(-8,8)\n",
    "plt.ylim(-8,8)\n",
    "plt.legend()\n",
    "plt.show()"
   ]
  },
  {
   "cell_type": "code",
   "execution_count": 23,
   "metadata": {},
   "outputs": [
    {
     "data": {
      "image/png": "[encoded data removed]",
      "text/plain": [
       "<matplotlib.figure.Figure at 0x7f14dffd7be0>"
      ]
     },
     "metadata": {},
     "output_type": "display_data"
    }
   ],
   "source": [
    "plt.title(\"Test data class seperation\")\n",
    "plt.scatter(X_1_test[:,0], X_1_test[:,1], label=\"Class 1\")\n",
    "plt.scatter(X_2_test[:,0], X_2_test[:,1], label=\"Class 2\")\n",
    "c = plt.contour(XX, YY, Z, colors='k', levels=[0], alpha=0.5,\n",
    "           linestyles=['--'])\n",
    "plt.xlim(-8,8)\n",
    "plt.ylim(-8,8)\n",
    "plt.legend()\n",
    "plt.show()"
   ]
  },
  {
   "cell_type": "code",
   "execution_count": null,
   "metadata": {
    "collapsed": true
   },
   "outputs": [],
   "source": []
  }
 ],
 "metadata": {
  "kernelspec": {
   "display_name": "Python [conda env:anaconda3]",
   "language": "python",
   "name": "conda-env-anaconda3-py"
  },
  "language_info": {
   "codemirror_mode": {
    "name": "ipython",
    "version": 3
   },
   "file_extension": ".py",
   "mimetype": "text/x-python",
   "name": "python",
   "nbconvert_exporter": "python",
   "pygments_lexer": "ipython3",
   "version": "3.6.8"
  }
 },
 "nbformat": 4,
 "nbformat_minor": 2
}
