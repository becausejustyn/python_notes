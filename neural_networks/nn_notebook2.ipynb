{
 "cells": [
  {
   "cell_type": "markdown",
   "metadata": {},
   "source": [
    "## The Sample Problem\n",
    "\n",
    "Consider a system that tries to map groups of 3 inputs to some corresponding output which is a single number. In the following picture, we'll show each set of 3 inputs as a row of a matrix $X$, and each output as the corresponding row of $Y$:\n",
    "\n",
    "$$ \\overbrace{\n",
    " \\left[ {\\begin{array}{ccc}\n",
    "   0 & 0 & 1 \\\\\n",
    "   0 & 1 & 1\\\\\n",
    "   1 & 0 & 1\\\\\n",
    "   1 & 1 & 1\\\\\n",
    "  \\end{array} } \\right]\n",
    "}^{X} \\rightarrow\n",
    "\\overbrace{\n",
    " \\left[ {\\begin{array}{c}\n",
    "   0   \\\\\n",
    "   0  \\\\\n",
    "   1  \\\\\n",
    "   1 \\\\\n",
    "  \\end{array} } \\right]\n",
    "  }^Y.\n",
    "$$\n",
    "\n",
    "Even though this system has an exact solution (namely, $Y$ equals the first column of $X$), usually we'll need to be satisfied with a system that maps our inputs $X$ to some approximate \"prediction\" $\\tilde{Y}$, which we hope to bring closer to the \"target\" $Y$ by means of successive improvements. \n",
    "\n",
    "The way we'll get our prediction $\\tilde{Y}$ is by means of a weighted sum of each set of 3 inputs, and some nonlinear function $f$ which we call the \"[activation function](https://en.wikipedia.org/wiki/Activation_function)\" (or just \"activation\").   Pictorially, the process looks like the following, for each row $i$ of $X$ and $Y$, (where the columns of $X$ are shown arranged vertically instead of horizonally):\n",
    "\n",
    "\n",
    "![image of NN](https://i.imgur.com/7Oj5Ksn.png)\n",
    "\n",
    "In terms of matrix multiplication, since X is a 4x3 matrix, and Y is a 4x1 matrix, that implies that our weights should be a 3x1 matrix consisting of (unknown) values $w_0$, $w_1$ and $w_2$. The calculation can be written as:\n",
    "\n",
    "$$\n",
    "f\\left(\n",
    "  \\overbrace{\n",
    " \\left[ {\\begin{array}{ccc}\n",
    "   0 & 0 & 1 \\\\\n",
    "   0 & 1 & 1\\\\\n",
    "   1 & 0 & 1\\\\\n",
    "   1 & 1 & 1\\\\\n",
    "  \\end{array} } \\right]\n",
    "}^\\text{X} \n",
    "\\overbrace{\n",
    "   \\left[ {\\begin{array}{c}\n",
    "   w_0  \\\\\n",
    "    w_1\\\\\n",
    "   w_2\\\\\n",
    "  \\end{array} } \\right]\n",
    " }^{w}\n",
    "\\right)\n",
    "  = \n",
    "  \\overbrace{\n",
    " \\left[ {\\begin{array}{c}\n",
    "   0   \\\\\n",
    "   0  \\\\\n",
    "   1  \\\\\n",
    "   1 \\\\\n",
    "  \\end{array} } \\right]\n",
    " }^{\\tilde{Y}}\n",
    "$$\n",
    "\n",
    "\n",
    "Our nonlinear activation function $f$ is taken to operate on each row element one at a time, and we'll let $f_i$ denote the $i$th row of this completed activation, i.e.:\n",
    "\n",
    "$$\n",
    "f_i = f\\left( \\sum_j X_{ij}w_j \\right) = \\tilde{Y}_i .\n",
    "$$\n",
    "\n",
    "\n",
    "The particular activation function we will use is the \"sigmoid\",\n",
    "\n",
    "$$\n",
    "f(x) = {1\\over{1+e^{-x}}}, \n",
    "$$\n",
    "-- [click here to see a plot of this function](https://www.google.com/search?q=plot+1%2F(1%2Bexp(-x) -- which has the derivative \n",
    "\n",
    "$$\n",
    "{df\\over dx} = {e^{-x}\\over(1 + e^{-x})^2}\n",
    "$$\n",
    "which can be shown (*Hint: exercise for \"mathy\" students!*) to simplify to\n",
    "$$\n",
    " {df\\over dx}= f(1-f).\n",
    "$$\n",
    "\n",
    "The overall problem then amounts to finding the values of the \"weights\" $w_0, w_1,$ and $w_2$ so that the $\\tilde{Y}$ we calculate is as close to the target $Y$ as possible.\n",
    "\n",
    "To do this, we will seek to minimize a loss function defined as a sum across all data points we have, i.e. all 4 rows. The loss function $L$ we will choose is the mean square error loss, or MSE (note: later in [Part 2](https://drscotthawley.github.io/blog/2019/02/04/My-First-NN-Part-2.html) we will use a 'better' loss function for this problem):\n",
    "\n",
    "$$\n",
    "L = {1\\over N}\\sum_{i=0}^{N-1} \\left[ \\tilde{Y}_i - Y_i\\right]^2,\n",
    "$$\n",
    "or in terms of the activation function\n",
    "$$\n",
    "L = {1\\over N}\\sum_{i=0}^{N-1} \\left[ f_i - Y_i\\right]^2.\n",
    "$$\n",
    "\n",
    "Each of the weights $w_j$ ($j=0..2$) will start with random values, and then be updated via gradient descent, i.e. \n",
    "\n",
    "$$\n",
    "w_j^{new} = w_j^{old} - \\alpha{\\partial L\\over \\partial w_j}\n",
    "$$\n",
    "\n",
    "where $\\alpha$ is the *learning rate*, chosen to be some small parameter.\n",
    "For the MSE loss shown above,  the partial derivatives with respect to each of the weights is\n",
    "\n",
    "$$\n",
    "{\\partial L\\over \\partial w_j} = {2\\over N}\\sum_{i=0}^{N-1} \\left[ \\tilde{Y}_i - Y_i\\right]{\\partial f_i \\over \\partial w_j}\\\\\n",
    "= {2\\over N}\\sum_{i=0}^{N-1} \\left[ \\tilde{Y}_i - Y_i\\right]f_i(1-f_i)X_{ij}.\n",
    "$$\n",
    "\n",
    "Absorbing the factor of 2/N into our choice of $\\alpha$, and writing the summation as a dot product, and noting that $f_i = \\tilde{Y}_i$, we can write the update for all the weights together as \n",
    "\n",
    "$$\n",
    "w = w - \\alpha  X^T \\cdot \\left( [\\tilde{Y}-Y]*\\tilde{Y}*(1-\\tilde{Y})\\right)\n",
    "$$\n",
    "where the $\\cdot$ denotes a matrix-matrix product (i.e. a dot product for successive rows of $X^T$) and $*$ denotes elementwise multiplication.  \n",
    "\n",
    "To clarify the above expression in terms of matrix dimensions, we can see that $w$, a 3x1 matrix, can be made by multipyting $X^T$ (a 3 x4 matrix) with the term in parentheses, i.e. the product of elementwise terms involving $\\tilde{Y}$, which is a 4x1 matrix.  In other words, a 3x4 matrix, times a 4x1 matrix, yields a 3x1 matrix. \n",
    "\n",
    "## Actual Code\n",
    "The full code for all of this is then..."
   ]
  },
  {
   "cell_type": "code",
   "execution_count": 1,
   "metadata": {},
   "outputs": [
    {
     "name": "stdout",
     "output_type": "stream",
     "text": [
      "Output After Training:\n",
      "Y_pred = (should be two 0's followed by two 1's)\n",
      " [[0.03178421]\n",
      " [0.02576499]\n",
      " [0.97906682]\n",
      " [0.97414645]]\n",
      "weights =\n",
      " [[ 7.26283009]\n",
      " [-0.21614618]\n",
      " [-3.41703015]]\n"
     ]
    }
   ],
   "source": [
    "# Source: Slightly modified from Andrew Trask's code posted at \n",
    "#         https://iamtrask.github.io/2015/07/12/basic-python-network/\n",
    "import numpy as np\n",
    "\n",
    "# sigmoid activation\n",
    "def sigmoid(x,deriv=False): \n",
    "  if(deriv==True):\n",
    "    return x*(1-x)\n",
    "  return 1/(1+np.exp(-x))\n",
    "    \n",
    "# input dataset\n",
    "X = np.array([  [0,0,1],\n",
    "                [0,1,1],\n",
    "                [1,0,1],\n",
    "                [1,1,1] ])\n",
    "    \n",
    "# target output dataset            \n",
    "Y = np.array([[0,0,1,1]]).T\n",
    "\n",
    "# seed random numbers to make calculation\n",
    "# deterministic (just a good practice)\n",
    "np.random.seed(1)\n",
    "\n",
    "# initialize weights randomly with mean 0\n",
    "w = 2*np.random.random((3,1)) - 1\n",
    "\n",
    "alpha = 1.0   # learning rate\n",
    "\n",
    "loss_history = []    # keep a record of how the loss proceeded, blank for now\n",
    "for iter in range(1000):\n",
    "\n",
    "    # forward propagation\n",
    "    Y_pred = sigmoid(np.dot(X,w)) # prediction, i.e. tilde{Y}\n",
    "\n",
    "    # how much did we miss?\n",
    "    diff = Y_pred - Y\n",
    "    loss_history.append((diff**2).mean())   # add to the history of the loss\n",
    "\n",
    "    # update weights\n",
    "    w -= alpha * np.dot( X.T, diff*sigmoid(Y_pred, deriv=True))\n",
    "\n",
    "print(\"Output After Training:\")\n",
    "print(\"Y_pred = (should be two 0's followed by two 1's)\\n\",Y_pred)\n",
    "print(\"weights =\\n\",w)"
   ]
  },
  {
   "cell_type": "markdown",
   "metadata": {},
   "source": [
    "Note that, because of our nonlinear activation, we *don't* get the solution $w_0=1, w_1=0, w_2=0$.\n",
    "\n",
    "Plotting the loss vs. iteration number, we see..."
   ]
  },
  {
   "cell_type": "code",
   "execution_count": 2,
   "metadata": {},
   "outputs": [
    {
     "data": {
      "image/png": "[encoded data removed]",
      "text/plain": [
       "<Figure size 432x288 with 1 Axes>"
      ]
     },
     "metadata": {
      "needs_background": "light"
     },
     "output_type": "display_data"
    }
   ],
   "source": [
    "%matplotlib inline\n",
    "import matplotlib.pyplot as plt\n",
    "plt.loglog(loss_history)\n",
    "plt.xlabel(\"Iteration\")\n",
    "plt.ylabel(\"Loss\")\n",
    "plt.show()"
   ]
  },
  {
   "cell_type": "markdown",
   "metadata": {},
   "source": [
    "## Change the activation function\n",
    "\n",
    "Another popular choice of activation function is the *rectified linear unit* or ReLU.  The function ReLU(x) is zero for x <= 0, and equal to x (i.e. a straight line at 45 degrees for)  x >0.  It can be written as max(x,0) or  x * (x>0), and its derivative is 1 for positive x, and zero otherwise. \n",
    "\n",
    "[Click here to see a graph of ReLU](https://www.desmos.com/calculator/vjqfxlgmzl)\n",
    "\n",
    "Modifying our earlier code to use ReLU activation instead of sigmoid looks like this:"
   ]
  },
  {
   "cell_type": "code",
   "execution_count": 3,
   "metadata": {},
   "outputs": [
    {
     "name": "stdout",
     "output_type": "stream",
     "text": [
      "Output After Training:\n",
      "Y_pred = (should be two 0's followed by two 1's)\n",
      " [[-0.]\n",
      " [-0.]\n",
      " [ 1.]\n",
      " [ 1.]]\n",
      "weights =\n",
      " [[ 1.01784368e+00]\n",
      " [ 8.53961786e-17]\n",
      " [-1.78436793e-02]]\n"
     ]
    }
   ],
   "source": [
    "def relu(x,deriv=False):   # relu activation\n",
    "  if(deriv==True):\n",
    "    return 1*(x>0) \n",
    "  return x*(x>0)\n",
    "\n",
    "# seed random numbers to make calculation\n",
    "# deterministic (just a good practice)\n",
    "np.random.seed(1)\n",
    "\n",
    "# initialize weights randomly  (but only >0 because ReLU clips otherwise)\n",
    "w = np.random.random((3,1))\n",
    "\n",
    "alpha = 0.3   # learning rate\n",
    "\n",
    "new_loss_history = []    # keep a record of how the error proceeded\n",
    "for iter in range(1000):\n",
    "\n",
    "    # forward propagation\n",
    "    Y_pred = relu(np.dot(X,w))\n",
    "\n",
    "    # how much did we miss?\n",
    "    diff = Y_pred - Y\n",
    "    new_loss_history.append((diff**2).mean())   # add to the record of the loss\n",
    "\n",
    "    # update weights\n",
    "    w -= alpha * np.dot( X.T, diff*relu(Y_pred, deriv=True))\n",
    "\n",
    "print(\"Output After Training:\")\n",
    "print(\"Y_pred = (should be two 0's followed by two 1's)\\n\",Y_pred)\n",
    "print(\"weights =\\n\",w)"
   ]
  },
  {
   "cell_type": "code",
   "execution_count": 4,
   "metadata": {},
   "outputs": [
    {
     "name": "stdout",
     "output_type": "stream",
     "text": [
      "[-3.46944695e-17]\n"
     ]
    }
   ],
   "source": [
    "# Aside/Trivia (you can skip this cell): I find it interesting that apparently w2 = 1-w0\n",
    "print( w[2] - (1-w[0]) )"
   ]
  },
  {
   "cell_type": "code",
   "execution_count": 5,
   "metadata": {},
   "outputs": [
    {
     "data": {
      "image/png": "[encoded data removed]",
      "text/plain": [
       "<Figure size 432x288 with 1 Axes>"
      ]
     },
     "metadata": {
      "needs_background": "light"
     },
     "output_type": "display_data"
    }
   ],
   "source": [
    "#old results with new results\n",
    "\n",
    "%matplotlib inline\n",
    "import matplotlib.pyplot as plt\n",
    "plt.loglog(loss_history,label=\"sigmoid\")\n",
    "plt.loglog(new_loss_history,label=\"relu\")\n",
    "plt.xlabel(\"Iteration\")\n",
    "plt.ylabel(\"Loss\")\n",
    "plt.legend()\n",
    "plt.show()"
   ]
  },
  {
   "cell_type": "markdown",
   "metadata": {},
   "source": [
    "## Exercise: Read a 7-segment display\n",
    "\n",
    "A [7-segment display](https://en.wikipedia.org/wiki/Seven-segment_display) is used for displaying numerical digits 0 through 9, usually by lighting up LEDs or parts of a liquid crystal display (LCD).  The segments are labelled $a$ through $g$ according to the following diagram:\n",
    "\n",
    "![7-segment diagram](https://i.imgur.com/ZyHGDKy.png) \n",
    "\n",
    "### Diagram of the network\n",
    "The 7 inputs \"a\" through \"g\" will be mapped to 10 outputs for the individual digits, and each output can range from 0 (\"false\" or \"no\") to 1 (\"true\" or \"yes\") for that digit.  The input and outputs will be connected by a matrix of weights.  Pictorially, this looks like the following (Not shown: activation function $f$):\n",
    "\n",
    "![diagram of 7-seg network](https://i.imgur.com/mERzmFE.png)\n",
    "\n",
    "...where again, this network operates on a single data point at a time, datapoints which are *rows* of *X* and *Y*.  What is shown in the above diagram are the *columns* of $X$ and $Y$ for a single row (/ single data point).\n",
    "\n",
    "### Create the dataset\n",
    "Let the input X be the segments $a$ through $g$ are the columns of the input $X$, and are either 1 for on or 0 for off.  Let the columns of the target $Y$ be the digits 0-9 themselves arranged in a [\"one hot\" encoding](https://machinelearningmastery.com/why-one-hot-encode-data-in-machine-learning/) scheme, as follows:\n",
    "\n",
    "\n",
    "<table>\n",
    "  <tr><td>Digit</td><td>One-Hot Encoding for $Y$</td></tr>\n",
    "    <tr><td>0</td><td>1,0,0,0,0,0,0,0,0,0</td></tr>\n",
    "    <tr><td>1</td><td>0,1,0,0,0,0,0,0,0,0</td></tr>\n",
    "    <tr><td>2</td><td>0,0,1,0,0,0,0,0,0,0</td></tr>\n",
    "  <tr><td>...</td><td>...</td></tr>\n",
    "    <tr><td>9</td><td>0,0,0,0,0,0,0,0,0,1</td></tr>\n",
    "  </table>\n",
    "  The values in the columns for $Y$ are essentially true/false \"bits\" for each digit, answering the question \"Is this digit the appropriate output?\" with a \"yes\"(=1) or \"no\" (=0) response. \n",
    "\n",
    "The input $X$ will be a 10x7 matrix, and the target $Y$ will be a 10x10 matrix. Each row of $X$ will be the segments to produce the digit for that row.  For example, the zeroth row of $X$ should show segments on which make an image of the digit zero, namely segments a, b, c, d, e, and f but not g, so that the zeroth row of X should be [1,1,1,1,1,1,0].\n",
    "\n",
    "Define numpy arrays for both $X$ and $Y$  (Hint: for $Y$, check out [np.eye()](https://docs.scipy.org/doc/numpy/reference/generated/numpy.eye.html)): \n",
    "\n"
   ]
  },
  {
   "cell_type": "code",
   "execution_count": null,
   "metadata": {},
   "outputs": [],
   "source": [
    "# Students: fill these out completely for what the X and Y *should* be\n",
    "# for the 7-segment display.  The following is just a \"stub\" to get you started.\n",
    "X = np.array([ [1,1,1,1,1,1,0],\n",
    "               [],\n",
    "               [],\n",
    "               [] ])\n",
    "Y = np.array([ [1,0,0,0,0,0,0,0,0,0],\n",
    "               [],\n",
    "               [] ])"
   ]
  },
  {
   "cell_type": "markdown",
   "metadata": {},
   "source": [
    "### Initialize the weights\n",
    "Previously the dimensions of the weight matrix $w$ were 3x1 because we were mapping each row of 3 elements in $X$ to each row of 1 element of $Y$.  For this new problem,\n",
    "each row of $X$ has 7 elements, and we want to map those to the 10 elements in each 1-hot-encoded row of $Y$, so what should the dimensions of the weights matrix $w$ be? \n",
    "\n",
    "Write some numpy code to randomly initialize the weights matrix:"
   ]
  },
  {
   "cell_type": "code",
   "execution_count": null,
   "metadata": {},
   "outputs": [],
   "source": [
    "np.random.seed(1)  # initial RNG so everybody gets similar results\n",
    "\n",
    "w = np.random.random(( , ))    # Students, fill in the array dimensions here"
   ]
  },
  {
   "cell_type": "markdown",
   "metadata": {},
   "source": [
    "### Train the network\n",
    "Having created an $X$ and its matching $Y$, and initalized the weights $w$ randomly, train a neural network such as the ones above to learn to map a row of X to a row of Y, i.e. train it to recognize digits on 7-segment displays.  Do this below."
   ]
  },
  {
   "cell_type": "code",
   "execution_count": null,
   "metadata": {},
   "outputs": [],
   "source": [
    "# Students, copy training code from above and paste it here. \n",
    "#  Use sigmoid activation, and 1000 iterations, and learning rate of 0.9\n",
    "#    Question: What happens if you use ReLU instead? Try it later. Is ReLU always the best choice?\n",
    "\n",
    "\n",
    "# And then print out your Y_pred & weights matrix, and limit it to 3 significant digits\n",
    "print(\"Output After Training:\")\n",
    "np.set_printoptions(formatter={'float': lambda x: \"{0:0.3f}\".format(x)}) # 3 sig figs\n",
    "print(\"Y_pred=\\n\",Y_pred)\n",
    "print(\"weights =\\n\",repr(w))  # the repr() makes it so it can be copied & pasted back into Python code"
   ]
  },
  {
   "cell_type": "markdown",
   "metadata": {},
   "source": [
    "## Final Check: Keras version\n",
    "\n",
    "[Keras](https://keras.io/) is a neural network library that lets us write NN applications very compactly.  Try running the following using the X and Y from your 7-segment dataset:"
   ]
  },
  {
   "cell_type": "code",
   "execution_count": null,
   "metadata": {},
   "outputs": [],
   "source": [
    "# Just a demo of how one might similarly train a network using Keras\n",
    "import keras\n",
    "from keras.models import Sequential\n",
    "from keras.layers import Dense, Activation\n",
    "model = Sequential([\n",
    "    Dense(10, input_shape=(7,)),\n",
    "    Activation('sigmoid') ])\n",
    "model.compile(optimizer='adam',   # We'll talk about optimizer choices and loss choices later\n",
    "              loss='categorical_crossentropy',\n",
    "              metrics=['accuracy'])\n",
    "model.fit(X, Y, epochs=200, batch_size=1)\n",
    "print(\"\\nY_tilde = \\n\", model.predict(X) )"
   ]
  },
  {
   "cell_type": "code",
   "execution_count": null,
   "metadata": {},
   "outputs": [],
   "source": []
  },
  {
   "cell_type": "code",
   "execution_count": null,
   "metadata": {},
   "outputs": [],
   "source": [
    "#https://drscotthawley.github.io/blog/2019/02/04/My-First-NN-Part-2.html\n"
   ]
  },
  {
   "cell_type": "code",
   "execution_count": null,
   "metadata": {},
   "outputs": [],
   "source": []
  },
  {
   "cell_type": "code",
   "execution_count": null,
   "metadata": {},
   "outputs": [],
   "source": [
    "#https://drscotthawley.github.io/blog/2019/02/08/My-1st-NN-Part-3-Multi-Layer-and-Backprop.html"
   ]
  },
  {
   "cell_type": "code",
   "execution_count": null,
   "metadata": {},
   "outputs": [],
   "source": []
  },
  {
   "cell_type": "code",
   "execution_count": null,
   "metadata": {},
   "outputs": [],
   "source": []
  }
 ],
 "metadata": {
  "interpreter": {
   "hash": "aee8b7b246df8f9039afb4144a1f6fd8d2ca17a180786b69acc140d282b71a49"
  },
  "kernelspec": {
   "display_name": "Python 3.9.6 64-bit",
   "language": "python",
   "name": "python3"
  },
  "language_info": {
   "codemirror_mode": {
    "name": "ipython",
    "version": 3
   },
   "file_extension": ".py",
   "mimetype": "text/x-python",
   "name": "python",
   "nbconvert_exporter": "python",
   "pygments_lexer": "ipython3",
   "version": "3.9.6"
  },
  "orig_nbformat": 4
 },
 "nbformat": 4,
 "nbformat_minor": 2
}
